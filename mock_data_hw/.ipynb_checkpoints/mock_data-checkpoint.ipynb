{
 "cells": [
  {
   "cell_type": "markdown",
   "id": "4b36571d",
   "metadata": {},
   "source": [
    "Ex1"
   ]
  },
  {
   "cell_type": "code",
   "execution_count": 1,
   "id": "aa9bd27e",
   "metadata": {},
   "outputs": [],
   "source": [
    "import csv\n",
    "import random\n",
    "\n",
    "# Generate some random data\n",
    "names = [\"Alice\", \"Bob\", \"Charlie\", \"David\", \"Emma\", \"Frank\", \"Grace\", \"Hannah\", \"Isaac\", \"Jack\"]\n",
    "locations = [\"New York\", \"Los Angeles\", \"Chicago\", \"Houston\", \"Phoenix\", \"Philadelphia\", \"San Antonio\", \"San Diego\", \"Dallas\", \"San Jose\"]\n",
    "\n",
    "# Write the data to a CSV file\n",
    "with open('user_records_large.csv', mode='w', newline='') as file:\n",
    "    writer = csv.writer(file)\n",
    "    writer.writerow(['Name', 'Age', 'Location'])\n",
    "    for i in range(10000):\n",
    "        writer.writerow([random.choice(names), random.randint(20, 60), random.choice(locations)])"
   ]
  },
  {
   "cell_type": "markdown",
   "id": "42d20b93",
   "metadata": {},
   "source": [
    "Ex2"
   ]
  },
  {
   "cell_type": "code",
   "execution_count": 4,
   "id": "0fa1aa40",
   "metadata": {},
   "outputs": [
    {
     "name": "stdout",
     "output_type": "stream",
     "text": [
      "Requirement already satisfied: pulsar-client in c:\\users\\user\\anaconda3\\envs\\env1\\lib\\site-packages (3.3.0)\n",
      "Requirement already satisfied: minio in c:\\users\\user\\anaconda3\\envs\\env1\\lib\\site-packages (7.1.17)\n",
      "Requirement already satisfied: certifi in c:\\users\\user\\anaconda3\\envs\\env1\\lib\\site-packages (from pulsar-client) (2023.7.22)\n",
      "Requirement already satisfied: urllib3 in c:\\users\\user\\anaconda3\\envs\\env1\\lib\\site-packages (from minio) (1.26.15)\n"
     ]
    }
   ],
   "source": [
    "!pip install pulsar-client minio"
   ]
  },
  {
   "cell_type": "code",
   "execution_count": 5,
   "id": "fd76b113",
   "metadata": {},
   "outputs": [],
   "source": [
    "from minio import Minio\n",
    "\n",
    "client = Minio(\n",
    "    \"storage.centerville.oak-tree.tech\",\n",
    "    access_key=\"my-access-key\",\n",
    "    secret_key=\"my-secret-key\",\n",
    "    secure=True\n",
    ")"
   ]
  },
  {
   "cell_type": "code",
   "execution_count": null,
   "id": "71f8e90f",
   "metadata": {},
   "outputs": [],
   "source": [
    " minio_client.fput_object(\n",
    "        \"bucket_name\", \"user_records_large.csv\", \"user_records_large.csv\"\n",
    "    )"
   ]
  },
  {
   "cell_type": "code",
   "execution_count": null,
   "id": "7f1f0164",
   "metadata": {},
   "outputs": [],
   "source": []
  }
 ],
 "metadata": {
  "kernelspec": {
   "display_name": "Python 3 (ipykernel)",
   "language": "python",
   "name": "python3"
  },
  "language_info": {
   "codemirror_mode": {
    "name": "ipython",
    "version": 3
   },
   "file_extension": ".py",
   "mimetype": "text/x-python",
   "name": "python",
   "nbconvert_exporter": "python",
   "pygments_lexer": "ipython3",
   "version": "3.10.8"
  }
 },
 "nbformat": 4,
 "nbformat_minor": 5
}
