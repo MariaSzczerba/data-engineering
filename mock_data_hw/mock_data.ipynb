{
 "cells": [
  {
   "cell_type": "markdown",
   "id": "15f96237",
   "metadata": {},
   "source": [
    "Ex1"
   ]
  },
  {
   "cell_type": "code",
   "execution_count": 29,
   "id": "aa9bd27e",
   "metadata": {},
   "outputs": [],
   "source": [
    "import csv\n",
    "import random\n",
    "\n",
    "# Generate some random data\n",
    "names = [\"Alice\", \"Bob\", \"Charlie\", \"David\", \"Emma\", \"Frank\", \"Grace\", \"Hannah\", \"Isaac\", \"Jack\"]\n",
    "locations = [\"New York\", \"Los Angeles\", \"Chicago\", \"Houston\", \"Phoenix\", \"Philadelphia\", \"San Antonio\", \"San Diego\", \"Dallas\", \"San Jose\"]\n",
    "\n",
    "# Write the data to a CSV file\n",
    "with open('user_records_large.csv', mode='w', newline='') as file:\n",
    "    writer = csv.writer(file)\n",
    "    writer.writerow(['Name', 'Age', 'Location'])\n",
    "    for i in range(10000):\n",
    "        writer.writerow([random.choice(names), random.randint(20, 60), random.choice(locations)])"
   ]
  },
  {
   "cell_type": "markdown",
   "id": "a562bdf1",
   "metadata": {},
   "source": [
    "Ex2"
   ]
  },
  {
   "cell_type": "code",
   "execution_count": 45,
   "id": "e372641c",
   "metadata": {},
   "outputs": [
    {
     "name": "stdout",
     "output_type": "stream",
     "text": [
      "Requirement already satisfied: pulsar-client in /home/maria/miniconda3/envs/ml2/lib/python3.10/site-packages (3.3.0)\n",
      "Requirement already satisfied: minio in /home/maria/miniconda3/envs/ml2/lib/python3.10/site-packages (7.1.17)\n",
      "Requirement already satisfied: certifi in /home/maria/miniconda3/envs/ml2/lib/python3.10/site-packages (from pulsar-client) (2023.5.7)\n",
      "Requirement already satisfied: urllib3 in /home/maria/miniconda3/envs/ml2/lib/python3.10/site-packages (from minio) (1.26.14)\n"
     ]
    }
   ],
   "source": [
    "!pip install pulsar-client minio"
   ]
  },
  {
   "cell_type": "code",
   "execution_count": 50,
   "id": "d9077f18",
   "metadata": {},
   "outputs": [],
   "source": [
    "import minio \n",
    "\n",
    "# Create client with access key and secret key with specific region.\n",
    "client = minio.Minio(\n",
    "    \"localhost:9005\",\n",
    "    access_key=\"minioadmin\",\n",
    "    secret_key=\"minioadmin\",\n",
    "    secure=False\n",
    ")"
   ]
  },
  {
   "cell_type": "code",
   "execution_count": 52,
   "id": "95ab3ff7",
   "metadata": {},
   "outputs": [],
   "source": [
    "bucket_name = \"my-bucket\"\n",
    "if not client.bucket_exists(bucket_name):\n",
    "    client.make_bucket(bucket_name)"
   ]
  },
  {
   "cell_type": "code",
   "execution_count": 53,
   "id": "3a91f2bb",
   "metadata": {},
   "outputs": [
    {
     "data": {
      "text/plain": [
       "<minio.helpers.ObjectWriteResult at 0x7f52a4697310>"
      ]
     },
     "execution_count": 53,
     "metadata": {},
     "output_type": "execute_result"
    }
   ],
   "source": [
    "client.fput_object(\n",
    "    \"my-bucket\",\n",
    "    \"user_records_large.csv\",\n",
    "    file_path = \"user_records_large.csv\"\n",
    ")"
   ]
  }
 ],
 "metadata": {
  "kernelspec": {
   "display_name": "Python 3 (ipykernel)",
   "language": "python",
   "name": "python3"
  },
  "language_info": {
   "codemirror_mode": {
    "name": "ipython",
    "version": 3
   },
   "file_extension": ".py",
   "mimetype": "text/x-python",
   "name": "python",
   "nbconvert_exporter": "python",
   "pygments_lexer": "ipython3",
   "version": "3.10.10"
  }
 },
 "nbformat": 4,
 "nbformat_minor": 5
}
