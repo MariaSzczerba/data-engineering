{
 "cells": [
  {
   "cell_type": "markdown",
   "metadata": {},
   "source": [
    "Report for 10 users with the highest amount of transactions."
   ]
  },
  {
   "cell_type": "code",
   "execution_count": null,
   "metadata": {},
   "outputs": [],
   "source": [
    "import minio \n",
    "\n",
    "client = minio.Minio(\n",
    "    \"localhost:9005\",\n",
    "    access_key=\"minioadmin\",\n",
    "    secret_key=\"minioadmin\",\n",
    "    secure=False\n",
    ")\n",
    "\n",
    "data_set_names = [\"accounts.csv\", \"emergency_contact.csv\", \"transactions.csv\", \"user_info.csv\", \"user_location.csv\"]\n",
    "\n",
    "transactions = client.fget_object(\"pyspark-task-data\", \"transactions.csv\")"
   ]
  },
  {
   "cell_type": "code",
   "execution_count": 18,
   "metadata": {},
   "outputs": [],
   "source": [
    "# import csv\n",
    "# def read_csv(file_path):\n",
    "#     data = []\n",
    "#     with open(file_path, 'r') as csv_file:\n",
    "#         csv_reader = csv.reader(csv_file)\n",
    "        \n",
    "#         for row in csv_reader:\n",
    "#             data.append(row)\n",
    "    \n",
    "#     return data\n",
    "\n",
    "# transactions = read_csv(\"data/transactions.csv\")"
   ]
  },
  {
   "cell_type": "code",
   "execution_count": 32,
   "metadata": {},
   "outputs": [],
   "source": [
    "import pandas as pd\n",
    "transactions_df = pd.DataFrame(transactions[1:], columns = transactions[0]) \n",
    "top_10_users = transactions_df.sort_values('amount', ascending=False)['user_name'][:10]"
   ]
  },
  {
   "cell_type": "code",
   "execution_count": 33,
   "metadata": {},
   "outputs": [
    {
     "data": {
      "text/plain": [
       "76797          Roger Acosta\n",
       "38899    Stephanie Mitchell\n",
       "32756          Michael King\n",
       "72531        Mary Hernandez\n",
       "94054          Tracy Little\n",
       "55642        Samuel Watkins\n",
       "87111         Jeffrey Green\n",
       "98810      Christopher Gray\n",
       "60020     Jennifer Trujillo\n",
       "69291        Kathy Jennings\n",
       "Name: user_name, dtype: object"
      ]
     },
     "execution_count": 33,
     "metadata": {},
     "output_type": "execute_result"
    }
   ],
   "source": [
    "top_10_users"
   ]
  }
 ],
 "metadata": {
  "kernelspec": {
   "display_name": "ml2",
   "language": "python",
   "name": "python3"
  },
  "language_info": {
   "codemirror_mode": {
    "name": "ipython",
    "version": 3
   },
   "file_extension": ".py",
   "mimetype": "text/x-python",
   "name": "python",
   "nbconvert_exporter": "python",
   "pygments_lexer": "ipython3",
   "version": "3.10.10"
  }
 },
 "nbformat": 4,
 "nbformat_minor": 2
}
